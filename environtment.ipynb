{
 "cells": [
  {
   "cell_type": "code",
   "execution_count": 1,
   "metadata": {},
   "outputs": [
    {
     "name": "stdout",
     "output_type": "stream",
     "text": [
      "environ({'ALLUSERSPROFILE': 'C:\\\\ProgramData', 'APPDATA': 'C:\\\\Users\\\\asus\\\\AppData\\\\Roaming', 'COMMONPROGRAMFILES': 'C:\\\\Program Files\\\\Common Files', 'COMMONPROGRAMFILES(X86)': 'C:\\\\Program Files (x86)\\\\Common Files', 'COMMONPROGRAMW6432': 'C:\\\\Program Files\\\\Common Files', 'COMPUTERNAME': 'HERIANTO', 'COMSPEC': 'C:\\\\WINDOWS\\\\system32\\\\cmd.exe', 'DRIVERDATA': 'C:\\\\Windows\\\\System32\\\\Drivers\\\\DriverData', 'FPS_BROWSER_APP_PROFILE_STRING': 'Internet Explorer', 'FPS_BROWSER_USER_PROFILE_STRING': 'Default', 'GP': 'C:\\\\Program Files\\\\Graphviz\\\\bin', 'HOMEDRIVE': 'C:', 'HOMEPATH': '\\\\Users\\\\asus', 'LOCALAPPDATA': 'C:\\\\Users\\\\asus\\\\AppData\\\\Local', 'LOGONSERVER': '\\\\\\\\HERIANTO', 'MOZ_PLUGIN_PATH': 'C:\\\\PROGRAM FILES (X86)\\\\FOXIT SOFTWARE\\\\FOXIT READER\\\\plugins\\\\', 'NUMBER_OF_PROCESSORS': '4', 'ONEDRIVE': 'C:\\\\Users\\\\asus\\\\OneDrive', 'OS': 'Windows_NT', 'PATH': 'C:\\\\Users\\\\asus\\\\anaconda3;C:\\\\Users\\\\asus\\\\anaconda3\\\\Library\\\\mingw-w64\\\\bin;C:\\\\Users\\\\asus\\\\anaconda3\\\\Library\\\\usr\\\\bin;C:\\\\Users\\\\asus\\\\anaconda3\\\\Library\\\\bin;C:\\\\Users\\\\asus\\\\anaconda3\\\\Scripts;C:\\\\Program Files\\\\Python38\\\\Scripts\\\\;C:\\\\Program Files\\\\Python38\\\\;C:\\\\Program Files (x86)\\\\Common Files\\\\Oracle\\\\Java\\\\javapath;C:\\\\Program Files (x86)\\\\Intel\\\\Intel(R) Management Engine Components\\\\iCLS\\\\;C:\\\\Program Files\\\\Intel\\\\Intel(R) Management Engine Components\\\\iCLS\\\\;C:\\\\Windows\\\\system32;C:\\\\Windows;C:\\\\Windows\\\\System32\\\\Wbem;C:\\\\Windows\\\\System32\\\\WindowsPowerShell\\\\v1.0\\\\;C:\\\\Program Files (x86)\\\\Intel\\\\Intel(R) Management Engine Components\\\\DAL;C:\\\\Program Files\\\\Intel\\\\Intel(R) Management Engine Components\\\\DAL;C:\\\\Program Files (x86)\\\\Intel\\\\Intel(R) Management Engine Components\\\\IPT;C:\\\\Program Files\\\\Intel\\\\Intel(R) Management Engine Components\\\\IPT;C:\\\\Program Files (x86)\\\\NVIDIA Corporation\\\\PhysX\\\\Common;C:\\\\Program Files (x86)\\\\PuTTY\\\\;C:\\\\WINDOWS\\\\system32;C:\\\\WINDOWS;C:\\\\WINDOWS\\\\System32\\\\Wbem;C:\\\\WINDOWS\\\\System32\\\\WindowsPowerShell\\\\v1.0\\\\;C:\\\\WINDOWS\\\\System32\\\\OpenSSH\\\\;C:\\\\Program Files\\\\MATLAB\\\\R2014a\\\\bin;C:\\\\Program Files\\\\Git\\\\cmd;C:\\\\Users\\\\asus\\\\AppData\\\\Local\\\\Programs\\\\Python\\\\Python39\\\\Scripts\\\\;C:\\\\Users\\\\asus\\\\AppData\\\\Local\\\\Programs\\\\Python\\\\Python39\\\\;C:\\\\Users\\\\asus\\\\AppData\\\\Local\\\\Microsoft\\\\WindowsApps;C:\\\\Program Files (x86)\\\\Nmap;;C:\\\\Users\\\\asus\\\\AppData\\\\Local\\\\Programs\\\\Microsoft VS Code\\\\bin;C:\\\\Program Files\\\\JetBrains\\\\PyCharm Edu 2021.2\\\\bin;', 'PATHEXT': '.COM;.EXE;.BAT;.CMD;.VBS;.VBE;.JS;.JSE;.WSF;.WSH;.MSC;.PY;.PYW', 'PROCESSOR_ARCHITECTURE': 'AMD64', 'PROCESSOR_IDENTIFIER': 'Intel64 Family 6 Model 78 Stepping 3, GenuineIntel', 'PROCESSOR_LEVEL': '6', 'PROCESSOR_REVISION': '4e03', 'PROGRAMDATA': 'C:\\\\ProgramData', 'PROGRAMFILES': 'C:\\\\Program Files', 'PROGRAMFILES(X86)': 'C:\\\\Program Files (x86)', 'PROGRAMW6432': 'C:\\\\Program Files', 'PSMODULEPATH': 'C:\\\\Program Files\\\\WindowsPowerShell\\\\Modules;C:\\\\WINDOWS\\\\system32\\\\WindowsPowerShell\\\\v1.0\\\\Modules', 'PT7HOME': 'C:\\\\Program Files\\\\Cisco Packet Tracer 7.0', 'PUBLIC': 'C:\\\\Users\\\\Public', 'PYCHARM EDU': 'C:\\\\Program Files\\\\JetBrains\\\\PyCharm Edu 2021.2\\\\bin;', 'QT_DEVICE_PIXEL_RATIO': 'auto', 'SESSIONNAME': 'Console', 'SYSTEMDRIVE': 'C:', 'SYSTEMROOT': 'C:\\\\WINDOWS', 'TEMP': 'C:\\\\Users\\\\asus\\\\AppData\\\\Local\\\\Temp', 'TMP': 'C:\\\\Users\\\\asus\\\\AppData\\\\Local\\\\Temp', 'USERDOMAIN': 'HERIANTO', 'USERDOMAIN_ROAMINGPROFILE': 'HERIANTO', 'USERNAME': 'asus', 'USERPROFILE': 'C:\\\\Users\\\\asus', 'WINDIR': 'C:\\\\WINDOWS', 'CONDA_PREFIX': 'C:\\\\Users\\\\asus\\\\anaconda3', 'JPY_INTERRUPT_EVENT': '3576', 'IPY_INTERRUPT_EVENT': '3576', 'JPY_PARENT_PID': '3488', 'TERM': 'xterm-color', 'CLICOLOR': '1', 'PAGER': 'cat', 'GIT_PAGER': 'cat', 'MPLBACKEND': 'module://ipykernel.pylab.backend_inline'})\n"
     ]
    }
   ],
   "source": [
    "import os\n",
    " \n",
    "# printing environment variables\n",
    "print(os.environ)"
   ]
  },
  {
   "cell_type": "code",
   "execution_count": 2,
   "metadata": {},
   "outputs": [
    {
     "name": "stdout",
     "output_type": "stream",
     "text": [
      "ALLUSERSPROFILE=C:\\ProgramData\n",
      "APPDATA=C:\\Users\\asus\\AppData\\Roaming\n",
      "COMMONPROGRAMFILES=C:\\Program Files\\Common Files\n",
      "COMMONPROGRAMFILES(X86)=C:\\Program Files (x86)\\Common Files\n",
      "COMMONPROGRAMW6432=C:\\Program Files\\Common Files\n",
      "COMPUTERNAME=HERIANTO\n",
      "COMSPEC=C:\\WINDOWS\\system32\\cmd.exe\n",
      "DRIVERDATA=C:\\Windows\\System32\\Drivers\\DriverData\n",
      "FPS_BROWSER_APP_PROFILE_STRING=Internet Explorer\n",
      "FPS_BROWSER_USER_PROFILE_STRING=Default\n",
      "GP=C:\\Program Files\\Graphviz\\bin\n",
      "HOMEDRIVE=C:\n",
      "HOMEPATH=\\Users\\asus\n",
      "LOCALAPPDATA=C:\\Users\\asus\\AppData\\Local\n",
      "LOGONSERVER=\\\\HERIANTO\n",
      "MOZ_PLUGIN_PATH=C:\\PROGRAM FILES (X86)\\FOXIT SOFTWARE\\FOXIT READER\\plugins\\\n",
      "NUMBER_OF_PROCESSORS=4\n",
      "ONEDRIVE=C:\\Users\\asus\\OneDrive\n",
      "OS=Windows_NT\n",
      "PATH=C:\\Users\\asus\\anaconda3;C:\\Users\\asus\\anaconda3\\Library\\mingw-w64\\bin;C:\\Users\\asus\\anaconda3\\Library\\usr\\bin;C:\\Users\\asus\\anaconda3\\Library\\bin;C:\\Users\\asus\\anaconda3\\Scripts;C:\\Program Files\\Python38\\Scripts\\;C:\\Program Files\\Python38\\;C:\\Program Files (x86)\\Common Files\\Oracle\\Java\\javapath;C:\\Program Files (x86)\\Intel\\Intel(R) Management Engine Components\\iCLS\\;C:\\Program Files\\Intel\\Intel(R) Management Engine Components\\iCLS\\;C:\\Windows\\system32;C:\\Windows;C:\\Windows\\System32\\Wbem;C:\\Windows\\System32\\WindowsPowerShell\\v1.0\\;C:\\Program Files (x86)\\Intel\\Intel(R) Management Engine Components\\DAL;C:\\Program Files\\Intel\\Intel(R) Management Engine Components\\DAL;C:\\Program Files (x86)\\Intel\\Intel(R) Management Engine Components\\IPT;C:\\Program Files\\Intel\\Intel(R) Management Engine Components\\IPT;C:\\Program Files (x86)\\NVIDIA Corporation\\PhysX\\Common;C:\\Program Files (x86)\\PuTTY\\;C:\\WINDOWS\\system32;C:\\WINDOWS;C:\\WINDOWS\\System32\\Wbem;C:\\WINDOWS\\System32\\WindowsPowerShell\\v1.0\\;C:\\WINDOWS\\System32\\OpenSSH\\;C:\\Program Files\\MATLAB\\R2014a\\bin;C:\\Program Files\\Git\\cmd;C:\\Users\\asus\\AppData\\Local\\Programs\\Python\\Python39\\Scripts\\;C:\\Users\\asus\\AppData\\Local\\Programs\\Python\\Python39\\;C:\\Users\\asus\\AppData\\Local\\Microsoft\\WindowsApps;C:\\Program Files (x86)\\Nmap;;C:\\Users\\asus\\AppData\\Local\\Programs\\Microsoft VS Code\\bin;C:\\Program Files\\JetBrains\\PyCharm Edu 2021.2\\bin;\n",
      "PATHEXT=.COM;.EXE;.BAT;.CMD;.VBS;.VBE;.JS;.JSE;.WSF;.WSH;.MSC;.PY;.PYW\n",
      "PROCESSOR_ARCHITECTURE=AMD64\n",
      "PROCESSOR_IDENTIFIER=Intel64 Family 6 Model 78 Stepping 3, GenuineIntel\n",
      "PROCESSOR_LEVEL=6\n",
      "PROCESSOR_REVISION=4e03\n",
      "PROGRAMDATA=C:\\ProgramData\n",
      "PROGRAMFILES=C:\\Program Files\n",
      "PROGRAMFILES(X86)=C:\\Program Files (x86)\n",
      "PROGRAMW6432=C:\\Program Files\n",
      "PSMODULEPATH=C:\\Program Files\\WindowsPowerShell\\Modules;C:\\WINDOWS\\system32\\WindowsPowerShell\\v1.0\\Modules\n",
      "PT7HOME=C:\\Program Files\\Cisco Packet Tracer 7.0\n",
      "PUBLIC=C:\\Users\\Public\n",
      "PYCHARM EDU=C:\\Program Files\\JetBrains\\PyCharm Edu 2021.2\\bin;\n",
      "QT_DEVICE_PIXEL_RATIO=auto\n",
      "SESSIONNAME=Console\n",
      "SYSTEMDRIVE=C:\n",
      "SYSTEMROOT=C:\\WINDOWS\n",
      "TEMP=C:\\Users\\asus\\AppData\\Local\\Temp\n",
      "TMP=C:\\Users\\asus\\AppData\\Local\\Temp\n",
      "USERDOMAIN=HERIANTO\n",
      "USERDOMAIN_ROAMINGPROFILE=HERIANTO\n",
      "USERNAME=asus\n",
      "USERPROFILE=C:\\Users\\asus\n",
      "WINDIR=C:\\WINDOWS\n",
      "CONDA_PREFIX=C:\\Users\\asus\\anaconda3\n",
      "JPY_INTERRUPT_EVENT=3576\n",
      "IPY_INTERRUPT_EVENT=3576\n",
      "JPY_PARENT_PID=3488\n",
      "TERM=xterm-color\n",
      "CLICOLOR=1\n",
      "PAGER=cat\n",
      "GIT_PAGER=cat\n",
      "MPLBACKEND=module://ipykernel.pylab.backend_inline\n"
     ]
    }
   ],
   "source": [
    "import os\n",
    " \n",
    "for k, v in os.environ.items():\n",
    "    print(f'{k}={v}')"
   ]
  },
  {
   "cell_type": "code",
   "execution_count": 4,
   "metadata": {},
   "outputs": [
    {
     "ename": "KeyError",
     "evalue": "'Users'",
     "output_type": "error",
     "traceback": [
      "\u001b[1;31m---------------------------------------------------------------------------\u001b[0m",
      "\u001b[1;31mKeyError\u001b[0m                                  Traceback (most recent call last)",
      "\u001b[1;32m<ipython-input-4-d5233d363694>\u001b[0m in \u001b[0;36m<module>\u001b[1;34m\u001b[0m\n\u001b[0;32m      1\u001b[0m \u001b[1;32mimport\u001b[0m \u001b[0mos\u001b[0m\u001b[1;33m\u001b[0m\u001b[1;33m\u001b[0m\u001b[0m\n\u001b[0;32m      2\u001b[0m \u001b[1;33m\u001b[0m\u001b[0m\n\u001b[1;32m----> 3\u001b[1;33m \u001b[0mhome_dir\u001b[0m \u001b[1;33m=\u001b[0m\u001b[0mos\u001b[0m\u001b[1;33m.\u001b[0m\u001b[0menviron\u001b[0m\u001b[1;33m[\u001b[0m\u001b[1;34m'Users'\u001b[0m\u001b[1;33m]\u001b[0m\u001b[1;33m\u001b[0m\u001b[1;33m\u001b[0m\u001b[0m\n\u001b[0m\u001b[0;32m      4\u001b[0m \u001b[0musername\u001b[0m \u001b[1;33m=\u001b[0m \u001b[0mos\u001b[0m\u001b[1;33m.\u001b[0m\u001b[0menviron\u001b[0m\u001b[1;33m[\u001b[0m\u001b[1;34m'asus'\u001b[0m\u001b[1;33m]\u001b[0m\u001b[1;33m\u001b[0m\u001b[1;33m\u001b[0m\u001b[0m\n\u001b[0;32m      5\u001b[0m \u001b[0mprint\u001b[0m\u001b[1;33m(\u001b[0m\u001b[1;34mf'{username} home directory is {home_dir}'\u001b[0m\u001b[1;33m)\u001b[0m\u001b[1;33m\u001b[0m\u001b[1;33m\u001b[0m\u001b[0m\n",
      "\u001b[1;32m~\\anaconda3\\lib\\os.py\u001b[0m in \u001b[0;36m__getitem__\u001b[1;34m(self, key)\u001b[0m\n\u001b[0;32m    673\u001b[0m         \u001b[1;32mexcept\u001b[0m \u001b[0mKeyError\u001b[0m\u001b[1;33m:\u001b[0m\u001b[1;33m\u001b[0m\u001b[1;33m\u001b[0m\u001b[0m\n\u001b[0;32m    674\u001b[0m             \u001b[1;31m# raise KeyError with the original key value\u001b[0m\u001b[1;33m\u001b[0m\u001b[1;33m\u001b[0m\u001b[1;33m\u001b[0m\u001b[0m\n\u001b[1;32m--> 675\u001b[1;33m             \u001b[1;32mraise\u001b[0m \u001b[0mKeyError\u001b[0m\u001b[1;33m(\u001b[0m\u001b[0mkey\u001b[0m\u001b[1;33m)\u001b[0m \u001b[1;32mfrom\u001b[0m \u001b[1;32mNone\u001b[0m\u001b[1;33m\u001b[0m\u001b[1;33m\u001b[0m\u001b[0m\n\u001b[0m\u001b[0;32m    676\u001b[0m         \u001b[1;32mreturn\u001b[0m \u001b[0mself\u001b[0m\u001b[1;33m.\u001b[0m\u001b[0mdecodevalue\u001b[0m\u001b[1;33m(\u001b[0m\u001b[0mvalue\u001b[0m\u001b[1;33m)\u001b[0m\u001b[1;33m\u001b[0m\u001b[1;33m\u001b[0m\u001b[0m\n\u001b[0;32m    677\u001b[0m \u001b[1;33m\u001b[0m\u001b[0m\n",
      "\u001b[1;31mKeyError\u001b[0m: 'Users'"
     ]
    }
   ],
   "source": [
    "import os\n",
    " \n",
    "home_dir =os.environ['Users']\n",
    "username = os.environ['asus']\n",
    "print(f'{username} home directory is {home_dir}')"
   ]
  },
  {
   "cell_type": "code",
   "execution_count": null,
   "metadata": {},
   "outputs": [],
   "source": []
  }
 ],
 "metadata": {
  "kernelspec": {
   "display_name": "Python 3",
   "language": "python",
   "name": "python3"
  },
  "language_info": {
   "codemirror_mode": {
    "name": "ipython",
    "version": 3
   },
   "file_extension": ".py",
   "mimetype": "text/x-python",
   "name": "python",
   "nbconvert_exporter": "python",
   "pygments_lexer": "ipython3",
   "version": "3.8.5"
  }
 },
 "nbformat": 4,
 "nbformat_minor": 4
}
